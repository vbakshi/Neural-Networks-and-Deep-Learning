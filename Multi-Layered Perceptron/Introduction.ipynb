{
 "cells": [
  {
   "cell_type": "markdown",
   "metadata": {
    "collapsed": true
   },
   "source": [
    "# Building a Multi-Layered Perceptron Using Numpy and Tensor-Flow"
   ]
  },
  {
   "cell_type": "markdown",
   "metadata": {},
   "source": [
    "This assignment consists of 3 programming tasks covering __basic classification problems, multi-layer-perceptron (MLP) and a dimension reduction practice.__ Task 4 contains several non-programming questions. For those who are not familiar with Python programming or machine learning, we suggest that you start the assignment as soon as possible. \n",
    "\n",
    "In this notebook, we provide the skeleton code. You need to fill in the <span style=\"color:red\"><strong>TODO</strong></span> sections with code, run them and capture the results within your copy of the notebook which includes the solutions. So pay attention to any <span style=\"color:red\"><strong>TODOs</strong></span>.\n",
    "\n",
    "\n",
    "## basic_classifers.ipynb \n",
    "Experiments with two classic classification methods: Linear Support Vector Machine (SVM) classifier and Softmax classifier. \n",
    "\n",
    "## MLP\n",
    "In this task, you are going to create a multi-layer-perceptron (MLP). It is designed to help you understand how backpropagation works.\n",
    "\n",
    "## Dimensionality Reduction: PCA\n",
    "In this task, you will work on the dimensionality reduction. Two methods will be introduced - principle component analysis (PCA) and t-distributed stochastic neighbor embedding (tSNE).\n",
    "\n"
   ]
  }
 ],
 "metadata": {
  "anaconda-cloud": {},
  "kernelspec": {
   "display_name": "Python [Root]",
   "language": "python",
   "name": "Python [Root]"
  },
  "language_info": {
   "codemirror_mode": {
    "name": "ipython",
    "version": 2
   },
   "file_extension": ".py",
   "mimetype": "text/x-python",
   "name": "python",
   "nbconvert_exporter": "python",
   "pygments_lexer": "ipython2",
   "version": "2.7.12"
  }
 },
 "nbformat": 4,
 "nbformat_minor": 2
}
